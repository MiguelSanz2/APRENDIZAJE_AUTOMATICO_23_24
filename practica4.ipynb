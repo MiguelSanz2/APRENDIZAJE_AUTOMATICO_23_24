{
  "nbformat": 4,
  "nbformat_minor": 0,
  "metadata": {
    "colab": {
      "provenance": [],
      "gpuType": "T4",
      "include_colab_link": true
    },
    "kernelspec": {
      "name": "python3",
      "display_name": "Python 3"
    },
    "language_info": {
      "name": "python"
    }
  },
  "cells": [
    {
      "cell_type": "markdown",
      "metadata": {
        "id": "view-in-github",
        "colab_type": "text"
      },
      "source": [
        "<a href=\"https://colab.research.google.com/github/MiguelSanz2/APRENDIZAJE_AUTOMATICO_23_24/blob/main/practica4.ipynb\" target=\"_parent\"><img src=\"https://colab.research.google.com/assets/colab-badge.svg\" alt=\"Open In Colab\"/></a>"
      ]
    },
    {
      "cell_type": "markdown",
      "source": [
        "Grupo 07\n",
        "\n",
        "Miguel Sanz Almau\n",
        "\n",
        "Carlos Ricardo Adaro Miro\n",
        "\n",
        "Juan Rivera Sanchez\n",
        "# PRACTICA 4:"
      ],
      "metadata": {
        "id": "sWD9hTxxINR7"
      }
    },
    {
      "cell_type": "markdown",
      "source": [
        "EJERCICIO 1:"
      ],
      "metadata": {
        "id": "hFYn1h-nvtTO"
      }
    },
    {
      "cell_type": "code",
      "source": [
        "import random\n",
        "import math\n",
        "import numpy as np\n",
        "!pip install deap\n",
        "from deap import base, creator, tools, algorithms\n",
        "import matplotlib.pyplot as plt"
      ],
      "metadata": {
        "colab": {
          "base_uri": "https://localhost:8080/"
        },
        "id": "p16kDCFgS-kg",
        "outputId": "bd3994c7-87fe-4b0f-d16f-61e79933e6ce"
      },
      "execution_count": null,
      "outputs": [
        {
          "output_type": "stream",
          "name": "stdout",
          "text": [
            "Collecting deap\n",
            "  Downloading deap-1.4.1-cp310-cp310-manylinux_2_5_x86_64.manylinux1_x86_64.manylinux_2_17_x86_64.manylinux2014_x86_64.whl (135 kB)\n",
            "\u001b[?25l     \u001b[90m━━━━━━━━━━━━━━━━━━━━━━━━━━━━━━━━━━━━━━━━\u001b[0m \u001b[32m0.0/135.4 kB\u001b[0m \u001b[31m?\u001b[0m eta \u001b[36m-:--:--\u001b[0m\r\u001b[2K     \u001b[91m━━━━━━━━━━━━━━━━━━━━━━━━━━━\u001b[0m\u001b[90m╺\u001b[0m\u001b[90m━━━━━━━━━━━━\u001b[0m \u001b[32m92.2/135.4 kB\u001b[0m \u001b[31m2.5 MB/s\u001b[0m eta \u001b[36m0:00:01\u001b[0m\r\u001b[2K     \u001b[90m━━━━━━━━━━━━━━━━━━━━━━━━━━━━━━━━━━━━━━━━\u001b[0m \u001b[32m135.4/135.4 kB\u001b[0m \u001b[31m2.7 MB/s\u001b[0m eta \u001b[36m0:00:00\u001b[0m\n",
            "\u001b[?25hRequirement already satisfied: numpy in /usr/local/lib/python3.10/dist-packages (from deap) (1.23.5)\n",
            "Installing collected packages: deap\n",
            "Successfully installed deap-1.4.1\n"
          ]
        }
      ]
    },
    {
      "cell_type": "markdown",
      "source": [
        "### PASO 1\n",
        "Definición de la función de picos: En esta sección, se define la función de picos que queremos optimizar. La función de picos toma dos parámetros, x e y, y devuelve un valor que representa la altura de la función en esas coordenadas."
      ],
      "metadata": {
        "id": "jpVIakjiEHhx"
      }
    },
    {
      "cell_type": "code",
      "source": [
        "def picos(x, y):\n",
        "    return 3 * ((1 - x)**2) * np.exp(-(x**2) - (y + 1)**2) - 10 * ((x / 5) - x**3 - y**5) * np.exp(-(x**2) - y**2) - (1 / 3) * np.exp(-((x + 1)**2) - y**2)"
      ],
      "metadata": {
        "id": "uk7JWUmVEWce"
      },
      "execution_count": null,
      "outputs": []
    },
    {
      "cell_type": "markdown",
      "source": [
        "### Paso 2\n",
        "Creación de los objetos para definir el problema y el tipo de individuo: En esta sección, se crean los objetos necesarios para definir el problema y el tipo de individuo que utilizaremos en los algoritmos genéticos. Se define un objeto de aptitud (FitnessMax) que representa la aptitud de un individuo y un objeto de individuo (Individual) que representa un individuo en sí.\n"
      ],
      "metadata": {
        "id": "BAqziZCxEaDR"
      }
    },
    {
      "cell_type": "code",
      "source": [
        "creator.create(\"FitnessMax\", base.Fitness, weights=(1.0,))\n",
        "creator.create(\"Individual\", list, fitness=creator.FitnessMax)"
      ],
      "metadata": {
        "id": "wkH9rIXMEjnH"
      },
      "execution_count": null,
      "outputs": []
    },
    {
      "cell_type": "markdown",
      "source": [
        "### Paso 3\n",
        "Definición de la función objetivo: En esta sección, se define la función objetivo que utilizaremos para evaluar la aptitud de los individuos. La función objetivo toma un individuo como parámetro y devuelve su aptitud. Si un individuo está fuera de los límites definidos (-100 <= x <= 100 y -100 <= y <= 100), se le asigna una aptitud negativa para penalizarlo.\n"
      ],
      "metadata": {
        "id": "PqMRRyvFEmTN"
      }
    },
    {
      "cell_type": "code",
      "source": [
        "def funcion_objetivo(individual):\n",
        "    \"\"\"\n",
        "    Objective function for our problem\n",
        "    \"\"\"\n",
        "    x, y = individual\n",
        "    if not (-100 <= x <= 100) or not (-100 <= y <= 100):\n",
        "        return -1,  # Penalize individuals outside the bounds\n",
        "    return picos(x, y),"
      ],
      "metadata": {
        "id": "7-dgqbn2EuQn"
      },
      "execution_count": null,
      "outputs": []
    },
    {
      "cell_type": "markdown",
      "source": [
        "### Paso 4\n",
        "Restricciones del dominio: En esta sección, se definen las restricciones del dominio para los valores de x e y. En nuestro caso, los valores de x e y deben estar entre -50 y 50.\n"
      ],
      "metadata": {
        "id": "YkeuP9TZEyBA"
      }
    },
    {
      "cell_type": "code",
      "source": [
        "BOUND_LOW, BOUND_UP = -50, 50"
      ],
      "metadata": {
        "id": "fnA2xzp-FHbc"
      },
      "execution_count": null,
      "outputs": []
    },
    {
      "cell_type": "markdown",
      "source": [
        "### Paso 5\n",
        "Registro de operaciones genéticas: En esta sección, se registran las operaciones genéticas que utilizaremos en los algoritmos genéticos. Se registran las operaciones de generación de genes, generación de individuos y población, evaluación de la función objetivo, cruce, mutación y selección."
      ],
      "metadata": {
        "id": "1XbF3B-wFISq"
      }
    },
    {
      "cell_type": "code",
      "source": [
        "toolbox = base.Toolbox()\n",
        "\n",
        "# Generamos genes\n",
        "toolbox.register(\"attr_uniform\", random.uniform, BOUND_LOW, BOUND_UP)\n",
        "\n",
        "# Generamos individuos y poblacion\n",
        "toolbox.register(\"individual\", tools.initRepeat, creator.Individual,\n",
        "                 toolbox.attr_uniform, 2)\n",
        "toolbox.register(\"population\", tools.initRepeat, list,\n",
        "                 toolbox.individual, 30)\n",
        "\n",
        "# Register genetic operations\n",
        "toolbox.register(\"evaluate\", funcion_objetivo)\n",
        "toolbox.register(\"mate\", tools.cxBlend, alpha=0.5)  # Blend crossover\n",
        "toolbox.register(\"mutate\", tools.mutGaussian, mu=0, sigma=5, indpb=0.1)\n",
        "toolbox.register(\"select\", tools.selTournament, tournsize=3)"
      ],
      "metadata": {
        "id": "l43tPrirFaW-"
      },
      "execution_count": null,
      "outputs": []
    },
    {
      "cell_type": "markdown",
      "source": [
        "### Paso 6\n",
        "Función de trazado de la evolución: En esta sección, se define una función para trazar la evolución del mejor individuo en cada generación. La función toma un registro de la evolución como parámetro y guarda un gráfico de la evolución en un archivo."
      ],
      "metadata": {
        "id": "E6kDpuabFcbr"
      }
    },
    {
      "cell_type": "code",
      "source": [
        "def plot_evolucion(log, filename=\"Convergencia.eps\"):\n",
        "    \"\"\"\n",
        "    Plot the evolution of the best individual in each generation\n",
        "    \"\"\"\n",
        "    gen = log.select(\"gen\")\n",
        "    fit_mins = log.select(\"min\")\n",
        "    fit_maxs = log.select(\"max\")\n",
        "    fit_ave = log.select(\"avg\")\n",
        "\n",
        "    fig, ax1 = plt.subplots()\n",
        "    ax1.plot(gen, fit_mins, \"b\")\n",
        "    ax1.plot(gen, fit_maxs, \"r\")\n",
        "    ax1.plot(gen, fit_ave, \"--k\")\n",
        "    ax1.fill_between(gen, fit_mins, fit_maxs, where=np.array(fit_maxs) >= np.array(fit_mins), facecolor='g', alpha=0.2)\n",
        "    ax1.set_xlabel(\"Generation\")\n",
        "    ax1.set_ylabel(\"Fitness\")\n",
        "    ax1.set_ylim([-10, 20])\n",
        "    ax1.legend([\"Min\", \"Max\", \"Avg\"], loc=\"lower center\")\n",
        "    plt.grid(True)\n",
        "    plt.savefig(filename, dpi=300)"
      ],
      "metadata": {
        "id": "6m8iVbLiFoe5"
      },
      "execution_count": null,
      "outputs": []
    },
    {
      "cell_type": "markdown",
      "source": [
        "### Paso 7\n",
        "Función principal: En esta sección, se define la función principal que ejecuta los algoritmos genéticos para optimizar la función de picos. Se inicializa una población, se define un objeto de Salón de la Fama (HallOfFame) para almacenar el mejor individuo, se definen estadísticas para el registro de la evolución y se ejecutan los algoritmos genéticos utilizando la función eaMuCommaLambda de DEAP. Finalmente, se devuelve el mejor individuo y el registro de la evolución."
      ],
      "metadata": {
        "id": "5Ond2LcRFtoj"
      }
    },
    {
      "cell_type": "code",
      "source": [
        "def main():\n",
        "    random.seed(42)\n",
        "    CXPB, MUTPB, NGEN = 0.7, 0.2, 30  # Adjusted parameters\n",
        "    pop = toolbox.population()\n",
        "    hof = tools.HallOfFame(1)\n",
        "    stats = tools.Statistics(lambda ind: ind.fitness.values)\n",
        "    stats.register(\"avg\", np.mean)\n",
        "    stats.register(\"std\", np.std)\n",
        "    stats.register(\"min\", np.min)\n",
        "    stats.register(\"max\", np.max)\n",
        "    logbook = tools.Logbook()\n",
        "    pop, logbook = algorithms.eaMuCommaLambda(pop, toolbox, mu=30, lambda_=100, cxpb=CXPB,\n",
        "                                              mutpb=MUTPB, ngen=NGEN, stats=stats,\n",
        "                                              halloffame=hof, verbose=True)\n",
        "    return hof, logbook"
      ],
      "metadata": {
        "id": "JQcbi798GCfp"
      },
      "execution_count": null,
      "outputs": []
    },
    {
      "cell_type": "markdown",
      "source": [
        "### Paso 8\n",
        "Ejecución del programa: En esta sección, se ejecuta la función principal y se imprime el mejor individuo y su aptitud. También se llama a la función de trazado de la evolución para guardar un gráfico de la evolución en un archivo."
      ],
      "metadata": {
        "id": "euRJhLOmGI6w"
      }
    },
    {
      "cell_type": "code",
      "source": [
        "if __name__ == \"__main__\":\n",
        "    best, log = main()\n",
        "    print(\"Best fitness: %f\" % best[0].fitness.values)\n",
        "    print(\"Best individual: %s\" % best[0])\n",
        "    plot_evolucion(log, \"Convergencia.eps\")"
      ],
      "metadata": {
        "colab": {
          "base_uri": "https://localhost:8080/",
          "height": 1000
        },
        "id": "1gt2C4AyGQFC",
        "outputId": "674aa66d-79c8-4270-f89e-d00ddf89e2c2"
      },
      "execution_count": null,
      "outputs": [
        {
          "output_type": "stream",
          "name": "stdout",
          "text": [
            "gen\tnevals\tavg         \tstd        \tmin         \tmax         \n",
            "0  \t30    \t-2.11245e-68\t1.13759e-67\t-6.33735e-67\t2.39023e-102\n",
            "1  \t90    \t2.22909e-108\t1.2004e-107\t0           \t6.68727e-107\n",
            "2  \t93    \t1.81815e-59 \t9.79106e-59\t0           \t5.45446e-58 \n",
            "3  \t91    \t1.81815e-59 \t9.79106e-59\t0           \t5.45446e-58 \n",
            "4  \t92    \t4.41519e-43 \t2.37765e-42\t0           \t1.32456e-41 \n",
            "5  \t88    \t3.74371e-66 \t2.01605e-65\t0           \t1.12311e-64 \n",
            "6  \t92    \t3.39277e-21 \t1.82706e-20\t8.30191e-198\t1.01783e-19 \n",
            "7  \t91    \t0.0501779   \t0.269793   \t2.24342e-114\t1.50306     \n",
            "8  \t97    \t7.59895e-05 \t0.000409206\t8.45763e-71 \t0.00227963  \n",
            "9  \t90    \t0.000652006 \t0.00311478 \t6.1732e-51  \t0.0172804   \n",
            "10 \t90    \t0.00126309  \t0.00315286 \t7.40778e-29 \t0.0118582   \n",
            "11 \t87    \t0.0447741   \t0.227485   \t-1.24367e-11\t1.26963     \n",
            "12 \t92    \t0.0912473   \t0.210561   \t-9.54743e-31\t0.700147    \n",
            "13 \t85    \t0.152917    \t0.250597   \t6.51553e-07 \t0.700147    \n",
            "14 \t86    \t0.789363    \t1.22692    \t6.51553e-07 \t3.68189     \n",
            "15 \t90    \t1.99893     \t1.59168    \t9.84216e-06 \t4.79779     \n",
            "16 \t88    \t2.9916      \t1.4991     \t7.0887e-10  \t7.13416     \n",
            "17 \t89    \t4.49558     \t1.75595    \t0.815354    \t7.64174     \n",
            "18 \t93    \t6.12602     \t1.35159    \t3.68189     \t7.96334     \n",
            "19 \t88    \t6.9691      \t0.915918   \t3.86033     \t7.83983     \n",
            "20 \t90    \t7.49243     \t0.328855   \t6.83343     \t8.02631     \n",
            "21 \t86    \t7.78765     \t0.17828    \t7.3285      \t8.05061     \n",
            "22 \t88    \t7.94865     \t0.101338   \t7.66344     \t8.08617     \n",
            "23 \t95    \t8.0343      \t0.0395964  \t7.96317     \t8.1058      \n",
            "24 \t93    \t8.07191     \t0.0299726  \t7.97699     \t8.1055      \n",
            "25 \t89    \t8.09383     \t0.0146884  \t8.04327     \t8.10593     \n",
            "26 \t87    \t8.10043     \t0.00493949 \t8.08617     \t8.10618     \n",
            "27 \t94    \t8.10396     \t0.00183441 \t8.09879     \t8.10612     \n",
            "28 \t93    \t8.10538     \t0.000770632\t8.10325     \t8.10618     \n",
            "29 \t84    \t8.10593     \t0.000254786\t8.10525     \t8.10619     \n",
            "30 \t87    \t8.10608     \t0.000119326\t8.10564     \t8.10619     \n",
            "Best fitness: 8.106207\n",
            "Best individual: [-0.00926180554748297, 1.581996222136954]\n"
          ]
        },
        {
          "output_type": "stream",
          "name": "stderr",
          "text": [
            "WARNING:matplotlib.backends.backend_ps:The PostScript backend does not support transparency; partially transparent artists will be rendered opaque.\n"
          ]
        },
        {
          "output_type": "display_data",
          "data": {
            "text/plain": [
              "<Figure size 640x480 with 1 Axes>"
            ],
            "image/png": "[encoded data removed]"
          },
          "metadata": {}
        }
      ]
    },
    {
      "cell_type": "markdown",
      "source": [
        "Por último, la gráfica muestra la evolución del fitness del mejor individuo de cada generación en un algoritmo evolutivo para encontrar los puntos máximos de la función picos. El fitness es una medida de la calidad de la solución representada por el individuo. En este caso, el fitness es el valor de la función picos en las coordenadas (x, y) del individuo.\n",
        "\n",
        "La gráfica muestra que el fitness del mejor individuo aumenta rápidamente en las primeras generaciones. Esto se debe a que el algoritmo comienza con una población de individuos aleatorios, y algunos de estos individuos tienen un fitness relativamente alto. El algoritmo luego selecciona estos individuos para reproducirse, lo que ayuda a que el fitness promedio de la población aumente.\n",
        "\n",
        "En las generaciones posteriores, el fitness del mejor individuo aumenta más lentamente. Esto se debe a que la población se vuelve más homogénea, y es más difícil encontrar individuos con un fitness significativamente mayor que el promedio.\n",
        "\n",
        "La gráfica muestra que el algoritmo alcanza un fitness máximo de 8.106207 en la generación 30. Esto significa que el algoritmo encontró una solución que maximiza la función picos.\n",
        "\n",
        "La gráfica se puede interpretar como sigue:\n",
        "\n",
        "- En las primeras generaciones: El algoritmo está explorando el espacio de soluciones. Selecciona individuos con un fitness relativamente alto y los usa para crear nuevos individuos.\n",
        "- En las generaciones posteriores: El algoritmo está refinando la solución. Selecciona individuos con un fitness más alto y los usa para crear nuevos individuos.\n",
        "La gráfica muestra que el algoritmo es capaz de encontrar una solución buena al problema de encontrar los puntos máximos de la función picos, incluso aunque la función es compleja."
      ],
      "metadata": {
        "id": "9o0AuHRoCqco"
      }
    },
    {
      "cell_type": "markdown",
      "source": [
        "# Conceptos clave\n",
        "- Individuo: Un individuo es una solución potencial al problema que estamos tratando de resolver. En nuestro caso, un individuo será una combinación de dos valores, x e y, que representan las coordenadas en el plano.\n",
        "\n",
        "- Población: Una población es un conjunto de individuos. En cada generación, los individuos se reproducen y evolucionan para encontrar soluciones óptimas.\n",
        "\n",
        "- Función objetivo: La función objetivo es la función que queremos maximizar o minimizar. En nuestro caso, la función objetivo es la función de picos.\n",
        "\n",
        "- Cruce: El cruce es el proceso de combinar los genes de dos individuos para crear nuevos individuos. En nuestro caso, utilizaremos el cruce de mezcla (blend crossover) para combinar los valores de x e y de dos individuos.\n",
        "\n",
        "- Mutación: La mutación es el proceso de introducir cambios aleatorios en los genes de un individuo. En nuestro caso, utilizaremos la mutación gaussiana para cambiar ligeramente los valores de x e y de un individuo.\n",
        "\n",
        "- Selección: La selección es el proceso de elegir los individuos más aptos para reproducirse y formar la siguiente generación. En nuestro caso, utilizaremos el torneo de selección (tournament selection) para seleccionar los individuos más aptos."
      ],
      "metadata": {
        "id": "EQxQj2i9GiXH"
      }
    },
    {
      "cell_type": "markdown",
      "source": [
        "# Ejercicio 2"
      ],
      "metadata": {
        "id": "_lpo-ZJ8GfEz"
      }
    },
    {
      "cell_type": "code",
      "source": [
        "import numpy as np\n",
        "import matplotlib.pyplot as plt"
      ],
      "metadata": {
        "id": "RFvPwGobv5Ha"
      },
      "execution_count": null,
      "outputs": []
    },
    {
      "cell_type": "markdown",
      "source": [
        "###Paso 1:\n",
        "\n",
        "Función de Rastrigin: La función de Rastrigin es una función matemática utilizada para evaluar el rendimiento de los algoritmos de optimización. Está definida en un espacio de búsqueda multidimensional y tiene múltiples mínimos locales. La función de Rastrigin se define de la siguiente manera:"
      ],
      "metadata": {
        "id": "YedH4OsYKtpp"
      }
    },
    {
      "cell_type": "code",
      "source": [
        "def rastrigin(x):\n",
        "    A = 10\n",
        "    n = len(x)\n",
        "    return A * n + sum([(xi ** 2 - A * np.cos(2 * np.pi * xi)) for xi in x])"
      ],
      "metadata": {
        "id": "uNHDATzNzKjh"
      },
      "execution_count": null,
      "outputs": []
    },
    {
      "cell_type": "markdown",
      "source": [
        "###Paso 2:\n",
        "\n",
        "Función de inicialización de población: Esta función inicializa una población de tamaño pop_size con individuos que tienen n variables de decisión. Los valores de las variables de decisión se generan aleatoriamente en el rango [-5.12, 5.12]."
      ],
      "metadata": {
        "id": "PPi39mqjK9FH"
      }
    },
    {
      "cell_type": "code",
      "source": [
        "def initialize_population(pop_size, n):\n",
        "    return [np.random.uniform(-5.12, 5.12, n) for _ in range(pop_size)]\n"
      ],
      "metadata": {
        "id": "KjgA3mfoLS6f"
      },
      "execution_count": null,
      "outputs": []
    },
    {
      "cell_type": "markdown",
      "source": [
        "###Paso 3:\n",
        "Función de selección de padres por torneo: Esta función selecciona los padres para la reproducción utilizando el método del torneo. Se eligen k individuos al azar de la población y se selecciona el individuo con el mejor puntaje de aptitud."
      ],
      "metadata": {
        "id": "TppxVJtULaEY"
      }
    },
    {
      "cell_type": "code",
      "source": [
        "def select_parents(population, fitness_scores, k=3):\n",
        "    selected_parents = []\n",
        "    for _ in range(len(population)):\n",
        "        chosen = np.random.choice(len(population), k, replace=False)\n",
        "        selected = min(chosen, key=lambda x: fitness_scores[x])\n",
        "        selected_parents.append(population[selected])\n",
        "    return selected_parents"
      ],
      "metadata": {
        "id": "oAQgnIzgLgXv"
      },
      "execution_count": null,
      "outputs": []
    },
    {
      "cell_type": "markdown",
      "source": [
        "###Paso 4:\n",
        "Función de cruce con un punto: Esta función realiza el cruce de un punto entre dos padres. Se elige un punto de cruce aleatorio y se intercambian las partes de los padres a ambos lados del punto de cruce para crear dos hijos."
      ],
      "metadata": {
        "id": "jtWSlV9PLtis"
      }
    },
    {
      "cell_type": "code",
      "source": [
        "def crossover_onepoint(parent1, parent2):\n",
        "    crossover_point = np.random.randint(1, len(parent1) - 1)\n",
        "    child1 = np.concatenate((parent1[:crossover_point], parent2[crossover_point:]))\n",
        "    child2 = np.concatenate((parent2[:crossover_point], parent1[crossover_point:]))\n",
        "    return child1, child2\n"
      ],
      "metadata": {
        "id": "pOxKxUV5LtDG"
      },
      "execution_count": null,
      "outputs": []
    },
    {
      "cell_type": "markdown",
      "source": [
        "###Paso 5:\n",
        "\n",
        "Función de cruce con dos puntos: Esta función realiza el cruce de dos puntos entre dos padres. Se eligen dos puntos de cruce aleatorios y se intercambian las partes de los padres entre los puntos de cruce para crear dos hijos."
      ],
      "metadata": {
        "id": "poogJkW_MurT"
      }
    },
    {
      "cell_type": "code",
      "source": [
        "def crossover_twopoints(parent1, parent2):\n",
        "    crossover_points = sorted(np.random.choice(range(1, len(parent1)), 2, replace=False))\n",
        "    child1 = np.concatenate((parent1[:crossover_points[0]], parent2[crossover_points[0]:crossover_points[1]], parent1[crossover_points[1]:]))\n",
        "    child2 = np.concatenate((parent2[:crossover_points[0]], parent1[crossover_points[0]:crossover_points[1]], parent2[crossover_points[1]:]))\n",
        "    return child1, child2"
      ],
      "metadata": {
        "id": "yfQrfOG1MuYZ"
      },
      "execution_count": null,
      "outputs": []
    },
    {
      "cell_type": "markdown",
      "source": [
        "###Paso 6:\n",
        "\n",
        "Función de mutación: Esta función realiza la mutación de un individuo. Para cada variable de decisión en el individuo, se genera un número aleatorio y si es menor que la tasa de mutación, se reemplaza el valor de la variable de decisión por uno nuevo generado aleatoriamente en el rango [-5.12, 5.12]."
      ],
      "metadata": {
        "id": "tGc7DxaSMuNw"
      }
    },
    {
      "cell_type": "code",
      "source": [
        "def mutate(individual, mutation_rate):\n",
        "    for i in range(len(individual)):\n",
        "        if np.random.rand() < mutation_rate:\n",
        "            individual[i] = np.random.uniform(-5.12, 5.12)\n",
        "    return individual"
      ],
      "metadata": {
        "id": "Trr5qJxyM_uM"
      },
      "execution_count": null,
      "outputs": []
    },
    {
      "cell_type": "markdown",
      "source": [
        "###Paso 8:\n",
        "\n",
        "Función de evaluación de la población: Esta función evalúa la aptitud de cada individuo en la población utilizando la función de Rastrigin."
      ],
      "metadata": {
        "id": "ICBeheiiMUSS"
      }
    },
    {
      "cell_type": "code",
      "source": [
        "def evaluate_population(population):\n",
        "    return [rastrigin(individual) for individual in population]\n"
      ],
      "metadata": {
        "id": "Gg-HDyIUMT0Y"
      },
      "execution_count": null,
      "outputs": []
    },
    {
      "cell_type": "markdown",
      "source": [
        "###Paso 9:\n",
        "\n",
        " Algoritmo genético: Esta función implementa el algoritmo genético completo. Genera una población inicial, evalúa la aptitud de los individuos, selecciona los padres, realiza el cruce y la mutación, y repite este proceso durante un número determinado de generaciones. Devuelve el mejor individuo encontrado y su valor de aptitud, así como una lista de los valores mínimos encontrados en cada generación."
      ],
      "metadata": {
        "id": "4nGtj_FzMbvr"
      }
    },
    {
      "cell_type": "code",
      "source": [
        "def genetic_algorithm(pop_size, n, generations, crossover_func):\n",
        "    population = initialize_population(pop_size, n)\n",
        "    mutation_rate = 0.1\n",
        "\n",
        "    # Lista para almacenar los valores mínimos encontrados en cada generación\n",
        "    min_values_history = []\n",
        "\n",
        "    for gen in range(generations):\n",
        "        fitness_scores = evaluate_population(population)\n",
        "        parents = select_parents(population, fitness_scores)\n",
        "        offspring = []\n",
        "\n",
        "        for i in range(0, len(parents), 2):\n",
        "            child1, child2 = crossover_func(parents[i], parents[i + 1])\n",
        "            child1 = mutate(child1, mutation_rate)\n",
        "            child2 = mutate(child2, mutation_rate)\n",
        "            offspring.extend([child1, child2])\n",
        "\n",
        "        population = offspring\n",
        "\n",
        "        # Guarda el valor mínimo encontrado en cada generación\n",
        "        min_values_history.append(min(evaluate_population(offspring)))\n",
        "\n",
        "    best_individual = min(population, key=lambda x: rastrigin(x))\n",
        "    return best_individual, rastrigin(best_individual), min_values_history"
      ],
      "metadata": {
        "id": "LzWHa7uUMcSm"
      },
      "execution_count": null,
      "outputs": []
    },
    {
      "cell_type": "markdown",
      "source": [
        "###Paso 10:\n",
        "\n",
        "Vamos ha ejecutar el algoritmo genético con una población de tamaño 50, 10 variables de decisión y 100 generaciones. Se utiliza el cruce de un punto y el cruce de dos puntos como funciones de cruce. Los resultados se imprimen en la consola, mostrando el mejor individuo encontrado y su valor mínimo."
      ],
      "metadata": {
        "id": "fhA9VakfNQch"
      }
    },
    {
      "cell_type": "code",
      "source": [
        "# Número de generaciones\n",
        "generations = 100\n",
        "\n",
        "# Ejecución del algoritmo genético con cruce de un punto\n",
        "best_individual_onepoint, min_value_onepoint, min_values_onepoint_history = genetic_algorithm(pop_size=50, n=10, generations=generations, crossover_func=crossover_onepoint)\n",
        "print(\"Mejor individuo (cruce con un punto):\", best_individual_onepoint)\n",
        "print(\"Valor mínimo encontrado (cruce con un punto):\", min_value_onepoint)\n",
        "\n",
        "# Ejecución del algoritmo genético con cruce de dos puntos\n",
        "best_individual_twopoints, min_value_twopoints, min_values_twopoints_history = genetic_algorithm(pop_size=50, n=10, generations=generations, crossover_func=crossover_twopoints)\n",
        "print(\"Mejor individuo (cruce con dos puntos):\", best_individual_twopoints)\n",
        "print(\"Valor mínimo encontrado (cruce con dos puntos):\", min_value_twopoints)\n",
        "\n",
        "# Grafica los valores mínimos encontrados en cada generación\n",
        "plt.plot(min_values_onepoint_history, label='Cruce con un punto')\n",
        "plt.plot(min_values_twopoints_history, label='Cruce con dos puntos')\n",
        "plt.xlabel('Generación')\n",
        "plt.ylabel('Valor mínimo')\n",
        "plt.legend()\n",
        "plt.title('Evolución del valor mínimo en cada generación')\n",
        "plt.show()"
      ],
      "metadata": {
        "colab": {
          "base_uri": "https://localhost:8080/",
          "height": 594
        },
        "id": "4AZHWjekNQyy",
        "outputId": "c925ab12-3aa1-4795-da8c-a61cdcddb5ff"
      },
      "execution_count": null,
      "outputs": [
        {
          "output_type": "stream",
          "name": "stdout",
          "text": [
            "Mejor individuo (cruce con un punto): [-3.14203788e-02  1.00155925e+00 -9.60009107e-01  9.36017507e-01\n",
            " -9.82381881e-01  1.04788433e+00 -5.86344653e-03  4.36479900e-04\n",
            " -9.42927821e-01 -1.07465365e+00]\n",
            "Valor mínimo encontrado (cruce con un punto): 10.44841361419384\n",
            "Mejor individuo (cruce con dos puntos): [-0.96517998 -0.95164123  0.00120358 -0.02994303  0.02716567  0.95920153\n",
            "  0.04280075  0.06925622  0.87086015  1.03193239]\n",
            "Valor mínimo encontrado (cruce con dos puntos): 10.541274863924983\n"
          ]
        },
        {
          "output_type": "display_data",
          "data": {
            "text/plain": [
              "<Figure size 640x480 with 1 Axes>"
            ],
            "image/png": "[encoded data removed]"
          },
          "metadata": {}
        }
      ]
    },
    {
      "cell_type": "markdown",
      "source": [
        "La gráfica muestra la evolución del valor mínimo de la función de Rastrigin para n = 10, para dos algoritmos genéticos (AG) con diferentes operadores de cruce: cruce con un punto (SP) y cruce con dos puntos (TP).\n",
        "\n",
        "En ambos casos, el AG logra encontrar el valor mínimo global de la función, que es 0. Sin embargo, el AG con cruce con dos puntos (TP) converge más rápido que el AG con cruce con un punto (SP).\n",
        "\n",
        "Esto se puede explicar por la naturaleza de los operadores de cruce. El cruce con un punto (SP) selecciona un punto aleatorio en la cadena de dos individuos y luego intercambia los genes a cada lado del punto. Esto puede conducir a la pérdida de información, ya que los genes de un individuo pueden ser reemplazados por los genes de otro individuo.\n",
        "\n",
        "El cruce con dos puntos (TP) selecciona dos puntos aleatorios en la cadena de dos individuos y luego intercambia los genes entre los dos puntos. Esto conserva más información que el cruce con un punto, ya que los genes de un individuo no son reemplazados por los genes de otro individuo.\n",
        "\n",
        "En este caso, el cruce con dos puntos (TP) conserva suficiente información para que el AG encuentre el valor mínimo global de la función de Rastrigin más rápido que el cruce con un punto (SP).\n",
        "\n",
        "Análisis de los datos:\n",
        "\n",
        "Los datos muestran que el AG con cruce con dos puntos (TP) tiene un mejor rendimiento que el AG con cruce con un punto (SP).\n",
        "\n"
      ],
      "metadata": {
        "id": "bndJrblXOdjJ"
      }
    }
  ]
}